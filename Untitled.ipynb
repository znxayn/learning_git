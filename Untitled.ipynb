{
 "cells": [
  {
   "cell_type": "code",
   "execution_count": 1,
   "id": "d909c21c-7209-49c9-a991-4947be7c2cf5",
   "metadata": {},
   "outputs": [],
   "source": [
    "import pandas as pd\n",
    "import numpy as np"
   ]
  },
  {
   "cell_type": "code",
   "execution_count": 2,
   "id": "d6048b61-2249-465c-a9de-f65f3505cf3f",
   "metadata": {},
   "outputs": [],
   "source": [
    "s = pd.Series(np.random.randn(5), index=['a', 'b', 'c', 'd', 'e'])"
   ]
  },
  {
   "cell_type": "code",
   "execution_count": 3,
   "id": "281c7c8d-aae6-4f2b-88c4-c61812825415",
   "metadata": {},
   "outputs": [
    {
     "data": {
      "text/plain": [
       "a   -1.014435\n",
       "b    0.689191\n",
       "c   -1.577911\n",
       "d    0.240396\n",
       "e    0.502837\n",
       "dtype: float64"
      ]
     },
     "execution_count": 3,
     "metadata": {},
     "output_type": "execute_result"
    }
   ],
   "source": [
    "s"
   ]
  },
  {
   "cell_type": "code",
   "execution_count": 4,
   "id": "91be7043-dfa9-439f-9170-5a453e456caf",
   "metadata": {},
   "outputs": [
    {
     "data": {
      "text/plain": [
       "-1.014434714475312"
      ]
     },
     "execution_count": 4,
     "metadata": {},
     "output_type": "execute_result"
    }
   ],
   "source": [
    "s.get('a')"
   ]
  },
  {
   "cell_type": "code",
   "execution_count": 5,
   "id": "3cd10420-eb80-470d-aaaa-f80fe716f739",
   "metadata": {},
   "outputs": [],
   "source": [
    "s.get('f')"
   ]
  },
  {
   "cell_type": "code",
   "execution_count": 6,
   "id": "6ca22933-3e66-44c1-b948-4e1f1b91dd7e",
   "metadata": {},
   "outputs": [
    {
     "data": {
      "text/plain": [
       "\"There's no 'f' inside.\""
      ]
     },
     "execution_count": 6,
     "metadata": {},
     "output_type": "execute_result"
    }
   ],
   "source": [
    "s.get('f', \"There's no 'f' inside.\")"
   ]
  },
  {
   "cell_type": "code",
   "execution_count": 7,
   "id": "9542074b-bf6d-42d3-b7f7-31fa17486e09",
   "metadata": {},
   "outputs": [
    {
     "data": {
      "text/plain": [
       "a   -1.014435\n",
       "b    0.689191\n",
       "c   -1.577911\n",
       "d    0.240396\n",
       "e    0.502837\n",
       "dtype: float64"
      ]
     },
     "execution_count": 7,
     "metadata": {},
     "output_type": "execute_result"
    }
   ],
   "source": [
    "s"
   ]
  },
  {
   "cell_type": "code",
   "execution_count": 8,
   "id": "0496fd45-cd34-46a9-b56b-33c76341622b",
   "metadata": {},
   "outputs": [
    {
     "data": {
      "text/plain": [
       "a   -2.028869\n",
       "b    1.378382\n",
       "c   -3.155821\n",
       "d    0.480792\n",
       "e    1.005674\n",
       "dtype: float64"
      ]
     },
     "execution_count": 8,
     "metadata": {},
     "output_type": "execute_result"
    }
   ],
   "source": [
    "s + s"
   ]
  },
  {
   "cell_type": "code",
   "execution_count": 9,
   "id": "7118c763-3fc8-4b6d-b41e-421468a4650d",
   "metadata": {},
   "outputs": [
    {
     "data": {
      "text/plain": [
       "a   -2.028869\n",
       "b    1.378382\n",
       "c   -3.155821\n",
       "d    0.480792\n",
       "e    1.005674\n",
       "dtype: float64"
      ]
     },
     "execution_count": 9,
     "metadata": {},
     "output_type": "execute_result"
    }
   ],
   "source": [
    "s * 2"
   ]
  },
  {
   "cell_type": "code",
   "execution_count": 10,
   "id": "24ccd237-e3b6-4d04-9238-9690ac997958",
   "metadata": {},
   "outputs": [
    {
     "data": {
      "text/plain": [
       "a    1.029078\n",
       "b    0.474984\n",
       "c    2.489802\n",
       "d    0.057790\n",
       "e    0.252845\n",
       "dtype: float64"
      ]
     },
     "execution_count": 10,
     "metadata": {},
     "output_type": "execute_result"
    }
   ],
   "source": [
    "s ** 2"
   ]
  },
  {
   "cell_type": "code",
   "execution_count": 11,
   "id": "93260e8b-f743-46d1-b088-56f1876cc2e1",
   "metadata": {},
   "outputs": [
    {
     "data": {
      "text/plain": [
       "a   -1.043932\n",
       "b    0.327355\n",
       "c   -3.928686\n",
       "d    0.013893\n",
       "e    0.127140\n",
       "dtype: float64"
      ]
     },
     "execution_count": 11,
     "metadata": {},
     "output_type": "execute_result"
    }
   ],
   "source": [
    "s ** 3"
   ]
  },
  {
   "cell_type": "code",
   "execution_count": 12,
   "id": "d7acc854-898d-48ab-8773-6f5ef95f017e",
   "metadata": {},
   "outputs": [
    {
     "data": {
      "text/plain": [
       "a    0.362607\n",
       "b    1.992103\n",
       "c    0.206406\n",
       "d    1.271753\n",
       "e    1.653405\n",
       "dtype: float64"
      ]
     },
     "execution_count": 12,
     "metadata": {},
     "output_type": "execute_result"
    }
   ],
   "source": [
    "np.exp(s)"
   ]
  },
  {
   "cell_type": "code",
   "execution_count": 13,
   "id": "bf735f3b-0671-4eff-a0aa-d4e5a7170b91",
   "metadata": {
    "collapsed": true,
    "jupyter": {
     "outputs_hidden": true
    }
   },
   "outputs": [
    {
     "name": "stdout",
     "output_type": "stream",
     "text": [
      "Help on ufunc:\n",
      "\n",
      "exp = <ufunc 'exp'>\n",
      "    exp(x, /, out=None, *, where=True, casting='same_kind', order='K', dtype=None, subok=True[, signature, extobj])\n",
      "\n",
      "    Calculate the exponential of all elements in the input array.\n",
      "\n",
      "    Parameters\n",
      "    ----------\n",
      "    x : array_like\n",
      "        Input values.\n",
      "    out : ndarray, None, or tuple of ndarray and None, optional\n",
      "        A location into which the result is stored. If provided, it must have\n",
      "        a shape that the inputs broadcast to. If not provided or None,\n",
      "        a freshly-allocated array is returned. A tuple (possible only as a\n",
      "        keyword argument) must have length equal to the number of outputs.\n",
      "    where : array_like, optional\n",
      "        This condition is broadcast over the input. At locations where the\n",
      "        condition is True, the `out` array will be set to the ufunc result.\n",
      "        Elsewhere, the `out` array will retain its original value.\n",
      "        Note that if an uninitialized `out` array is created via the default\n",
      "        ``out=None``, locations within it where the condition is False will\n",
      "        remain uninitialized.\n",
      "    **kwargs\n",
      "        For other keyword-only arguments, see the\n",
      "        :ref:`ufunc docs <ufuncs.kwargs>`.\n",
      "\n",
      "    Returns\n",
      "    -------\n",
      "    out : ndarray or scalar\n",
      "        Output array, element-wise exponential of `x`.\n",
      "        This is a scalar if `x` is a scalar.\n",
      "\n",
      "    See Also\n",
      "    --------\n",
      "    expm1 : Calculate ``exp(x) - 1`` for all elements in the array.\n",
      "    exp2  : Calculate ``2**x`` for all elements in the array.\n",
      "\n",
      "    Notes\n",
      "    -----\n",
      "    The irrational number ``e`` is also known as Euler's number.  It is\n",
      "    approximately 2.718281, and is the base of the natural logarithm,\n",
      "    ``ln`` (this means that, if :math:`x = \\ln y = \\log_e y`,\n",
      "    then :math:`e^x = y`. For real input, ``exp(x)`` is always positive.\n",
      "\n",
      "    For complex arguments, ``x = a + ib``, we can write\n",
      "    :math:`e^x = e^a e^{ib}`.  The first term, :math:`e^a`, is already\n",
      "    known (it is the real argument, described above).  The second term,\n",
      "    :math:`e^{ib}`, is :math:`\\cos b + i \\sin b`, a function with\n",
      "    magnitude 1 and a periodic phase.\n",
      "\n",
      "    References\n",
      "    ----------\n",
      "    .. [1] Wikipedia, \"Exponential function\",\n",
      "           https://en.wikipedia.org/wiki/Exponential_function\n",
      "    .. [2] M. Abramovitz and I. A. Stegun, \"Handbook of Mathematical Functions\n",
      "           with Formulas, Graphs, and Mathematical Tables,\" Dover, 1964, p. 69,\n",
      "           https://personal.math.ubc.ca/~cbm/aands/page_69.htm\n",
      "\n",
      "    Examples\n",
      "    --------\n",
      "    Plot the magnitude and phase of ``exp(x)`` in the complex plane:\n",
      "\n",
      "    >>> import matplotlib.pyplot as plt\n",
      "\n",
      "    >>> x = np.linspace(-2*np.pi, 2*np.pi, 100)\n",
      "    >>> xx = x + 1j * x[:, np.newaxis] # a + ib over complex plane\n",
      "    >>> out = np.exp(xx)\n",
      "\n",
      "    >>> plt.subplot(121)\n",
      "    >>> plt.imshow(np.abs(out),\n",
      "    ...            extent=[-2*np.pi, 2*np.pi, -2*np.pi, 2*np.pi], cmap='gray')\n",
      "    >>> plt.title('Magnitude of exp(x)')\n",
      "\n",
      "    >>> plt.subplot(122)\n",
      "    >>> plt.imshow(np.angle(out),\n",
      "    ...            extent=[-2*np.pi, 2*np.pi, -2*np.pi, 2*np.pi], cmap='hsv')\n",
      "    >>> plt.title('Phase (angle) of exp(x)')\n",
      "    >>> plt.show()\n",
      "\n"
     ]
    }
   ],
   "source": [
    "help(np.exp)"
   ]
  },
  {
   "cell_type": "code",
   "execution_count": 14,
   "id": "b12b816f-9ec5-4d04-b32c-0f70e0d46baf",
   "metadata": {},
   "outputs": [
    {
     "data": {
      "text/plain": [
       "2.718281828459045"
      ]
     },
     "execution_count": 14,
     "metadata": {},
     "output_type": "execute_result"
    }
   ],
   "source": [
    "np.exp(1)"
   ]
  },
  {
   "cell_type": "code",
   "execution_count": 15,
   "id": "301e03fa-cfd9-4301-9439-3b5b8967027e",
   "metadata": {},
   "outputs": [
    {
     "data": {
      "text/plain": [
       "7.38905609893065"
      ]
     },
     "execution_count": 15,
     "metadata": {},
     "output_type": "execute_result"
    }
   ],
   "source": [
    "np.exp(2)"
   ]
  },
  {
   "cell_type": "code",
   "execution_count": 16,
   "id": "2f60f958-9941-4d6e-b4ea-f1315d8f8b28",
   "metadata": {},
   "outputs": [
    {
     "data": {
      "text/plain": [
       "a   -1.014435\n",
       "b    0.689191\n",
       "c   -1.577911\n",
       "d    0.240396\n",
       "e    0.502837\n",
       "dtype: float64"
      ]
     },
     "execution_count": 16,
     "metadata": {},
     "output_type": "execute_result"
    }
   ],
   "source": [
    "s"
   ]
  },
  {
   "cell_type": "code",
   "execution_count": 22,
   "id": "c1bc0ba8-f0b6-481d-b60d-87ce335d9bf6",
   "metadata": {},
   "outputs": [
    {
     "data": {
      "text/plain": [
       "a   -1.014435\n",
       "b    0.689191\n",
       "c   -1.577911\n",
       "d    0.240396\n",
       "e    0.502837\n",
       "Name: newname, dtype: float64"
      ]
     },
     "execution_count": 22,
     "metadata": {},
     "output_type": "execute_result"
    }
   ],
   "source": [
    "s.rename(\"newname\", inplace=True)"
   ]
  },
  {
   "cell_type": "code",
   "execution_count": 23,
   "id": "2cad22e7-1c1c-4d1f-a75b-16d002327e22",
   "metadata": {},
   "outputs": [
    {
     "data": {
      "text/plain": [
       "a   -1.014435\n",
       "b    0.689191\n",
       "c   -1.577911\n",
       "d    0.240396\n",
       "e    0.502837\n",
       "Name: newname, dtype: float64"
      ]
     },
     "execution_count": 23,
     "metadata": {},
     "output_type": "execute_result"
    }
   ],
   "source": [
    "s"
   ]
  },
  {
   "cell_type": "code",
   "execution_count": 25,
   "id": "2bac2624-7f8f-4546-8bfd-dcdcf70a260e",
   "metadata": {},
   "outputs": [
    {
     "data": {
      "text/plain": [
       "'newname'"
      ]
     },
     "execution_count": 25,
     "metadata": {},
     "output_type": "execute_result"
    }
   ],
   "source": [
    "s.name"
   ]
  },
  {
   "cell_type": "code",
   "execution_count": 26,
   "id": "f6681a83-f401-4981-a2fc-f9c987040aef",
   "metadata": {},
   "outputs": [],
   "source": [
    "s2 = s.rename('the2one')"
   ]
  },
  {
   "cell_type": "code",
   "execution_count": 27,
   "id": "43797def-a318-4a78-a448-1540398cf7aa",
   "metadata": {},
   "outputs": [
    {
     "data": {
      "text/plain": [
       "a   -1.014435\n",
       "b    0.689191\n",
       "c   -1.577911\n",
       "d    0.240396\n",
       "e    0.502837\n",
       "Name: the2one, dtype: float64"
      ]
     },
     "execution_count": 27,
     "metadata": {},
     "output_type": "execute_result"
    }
   ],
   "source": [
    "s2"
   ]
  },
  {
   "cell_type": "code",
   "execution_count": 38,
   "id": "bf358cc4-3f58-433b-b83f-29b128d36772",
   "metadata": {},
   "outputs": [],
   "source": [
    "df = pd.DataFrame(s2)"
   ]
  },
  {
   "cell_type": "code",
   "execution_count": 39,
   "id": "3e7e71ef-9de5-4670-8e09-bcd6cec086b0",
   "metadata": {},
   "outputs": [
    {
     "data": {
      "text/html": [
       "<div>\n",
       "<style scoped>\n",
       "    .dataframe tbody tr th:only-of-type {\n",
       "        vertical-align: middle;\n",
       "    }\n",
       "\n",
       "    .dataframe tbody tr th {\n",
       "        vertical-align: top;\n",
       "    }\n",
       "\n",
       "    .dataframe thead th {\n",
       "        text-align: right;\n",
       "    }\n",
       "</style>\n",
       "<table border=\"1\" class=\"dataframe\">\n",
       "  <thead>\n",
       "    <tr style=\"text-align: right;\">\n",
       "      <th></th>\n",
       "      <th>the2one</th>\n",
       "    </tr>\n",
       "  </thead>\n",
       "  <tbody>\n",
       "    <tr>\n",
       "      <th>a</th>\n",
       "      <td>-1.014435</td>\n",
       "    </tr>\n",
       "    <tr>\n",
       "      <th>b</th>\n",
       "      <td>0.689191</td>\n",
       "    </tr>\n",
       "    <tr>\n",
       "      <th>c</th>\n",
       "      <td>-1.577911</td>\n",
       "    </tr>\n",
       "    <tr>\n",
       "      <th>d</th>\n",
       "      <td>0.240396</td>\n",
       "    </tr>\n",
       "    <tr>\n",
       "      <th>e</th>\n",
       "      <td>0.502837</td>\n",
       "    </tr>\n",
       "  </tbody>\n",
       "</table>\n",
       "</div>"
      ],
      "text/plain": [
       "    the2one\n",
       "a -1.014435\n",
       "b  0.689191\n",
       "c -1.577911\n",
       "d  0.240396\n",
       "e  0.502837"
      ]
     },
     "execution_count": 39,
     "metadata": {},
     "output_type": "execute_result"
    }
   ],
   "source": [
    "df"
   ]
  },
  {
   "cell_type": "code",
   "execution_count": 40,
   "id": "f14a5c40-150c-4d3f-8100-e11496cd047e",
   "metadata": {},
   "outputs": [],
   "source": [
    "d = {\n",
    "    \"one\": pd.Series([1.0, 2.0, 3.0], index=[\"a\", \"b\", \"c\"]),\n",
    "    \"two\": pd.Series([1.0, 2.0, 3.0, 4.0], index=[\"a\", \"b\", \"c\", \"d\"]),\n",
    "}\n"
   ]
  },
  {
   "cell_type": "code",
   "execution_count": 41,
   "id": "98124909-de76-4b0e-9977-fc6456b82340",
   "metadata": {},
   "outputs": [],
   "source": [
    "df = pd.DataFrame(d)"
   ]
  },
  {
   "cell_type": "code",
   "execution_count": 42,
   "id": "613bdbaf-41d1-4d65-b7b2-4ead9520e376",
   "metadata": {},
   "outputs": [
    {
     "data": {
      "text/plain": [
       "{'one': a    1.0\n",
       " b    2.0\n",
       " c    3.0\n",
       " dtype: float64,\n",
       " 'two': a    1.0\n",
       " b    2.0\n",
       " c    3.0\n",
       " d    4.0\n",
       " dtype: float64}"
      ]
     },
     "execution_count": 42,
     "metadata": {},
     "output_type": "execute_result"
    }
   ],
   "source": [
    "d"
   ]
  },
  {
   "cell_type": "code",
   "execution_count": 43,
   "id": "40c50886-f0a0-4a33-bd6e-c3cc8057e530",
   "metadata": {},
   "outputs": [
    {
     "data": {
      "text/html": [
       "<div>\n",
       "<style scoped>\n",
       "    .dataframe tbody tr th:only-of-type {\n",
       "        vertical-align: middle;\n",
       "    }\n",
       "\n",
       "    .dataframe tbody tr th {\n",
       "        vertical-align: top;\n",
       "    }\n",
       "\n",
       "    .dataframe thead th {\n",
       "        text-align: right;\n",
       "    }\n",
       "</style>\n",
       "<table border=\"1\" class=\"dataframe\">\n",
       "  <thead>\n",
       "    <tr style=\"text-align: right;\">\n",
       "      <th></th>\n",
       "      <th>one</th>\n",
       "      <th>two</th>\n",
       "    </tr>\n",
       "  </thead>\n",
       "  <tbody>\n",
       "    <tr>\n",
       "      <th>a</th>\n",
       "      <td>1.0</td>\n",
       "      <td>1.0</td>\n",
       "    </tr>\n",
       "    <tr>\n",
       "      <th>b</th>\n",
       "      <td>2.0</td>\n",
       "      <td>2.0</td>\n",
       "    </tr>\n",
       "    <tr>\n",
       "      <th>c</th>\n",
       "      <td>3.0</td>\n",
       "      <td>3.0</td>\n",
       "    </tr>\n",
       "    <tr>\n",
       "      <th>d</th>\n",
       "      <td>NaN</td>\n",
       "      <td>4.0</td>\n",
       "    </tr>\n",
       "  </tbody>\n",
       "</table>\n",
       "</div>"
      ],
      "text/plain": [
       "   one  two\n",
       "a  1.0  1.0\n",
       "b  2.0  2.0\n",
       "c  3.0  3.0\n",
       "d  NaN  4.0"
      ]
     },
     "execution_count": 43,
     "metadata": {},
     "output_type": "execute_result"
    }
   ],
   "source": [
    "df"
   ]
  },
  {
   "cell_type": "code",
   "execution_count": 44,
   "id": "1b3cdff6-52d0-4e55-a6ac-f4a9e4569fe8",
   "metadata": {},
   "outputs": [
    {
     "data": {
      "text/html": [
       "<div>\n",
       "<style scoped>\n",
       "    .dataframe tbody tr th:only-of-type {\n",
       "        vertical-align: middle;\n",
       "    }\n",
       "\n",
       "    .dataframe tbody tr th {\n",
       "        vertical-align: top;\n",
       "    }\n",
       "\n",
       "    .dataframe thead th {\n",
       "        text-align: right;\n",
       "    }\n",
       "</style>\n",
       "<table border=\"1\" class=\"dataframe\">\n",
       "  <thead>\n",
       "    <tr style=\"text-align: right;\">\n",
       "      <th></th>\n",
       "      <th>one</th>\n",
       "      <th>two</th>\n",
       "    </tr>\n",
       "  </thead>\n",
       "  <tbody>\n",
       "    <tr>\n",
       "      <th>d</th>\n",
       "      <td>NaN</td>\n",
       "      <td>4.0</td>\n",
       "    </tr>\n",
       "    <tr>\n",
       "      <th>b</th>\n",
       "      <td>2.0</td>\n",
       "      <td>2.0</td>\n",
       "    </tr>\n",
       "    <tr>\n",
       "      <th>a</th>\n",
       "      <td>1.0</td>\n",
       "      <td>1.0</td>\n",
       "    </tr>\n",
       "  </tbody>\n",
       "</table>\n",
       "</div>"
      ],
      "text/plain": [
       "   one  two\n",
       "d  NaN  4.0\n",
       "b  2.0  2.0\n",
       "a  1.0  1.0"
      ]
     },
     "execution_count": 44,
     "metadata": {},
     "output_type": "execute_result"
    }
   ],
   "source": [
    "pd.DataFrame(d, index=['d', 'b', 'a'])"
   ]
  },
  {
   "cell_type": "code",
   "execution_count": 45,
   "id": "9e35ba87-8d7a-46f7-aab4-a4de70625d59",
   "metadata": {},
   "outputs": [
    {
     "data": {
      "text/html": [
       "<div>\n",
       "<style scoped>\n",
       "    .dataframe tbody tr th:only-of-type {\n",
       "        vertical-align: middle;\n",
       "    }\n",
       "\n",
       "    .dataframe tbody tr th {\n",
       "        vertical-align: top;\n",
       "    }\n",
       "\n",
       "    .dataframe thead th {\n",
       "        text-align: right;\n",
       "    }\n",
       "</style>\n",
       "<table border=\"1\" class=\"dataframe\">\n",
       "  <thead>\n",
       "    <tr style=\"text-align: right;\">\n",
       "      <th></th>\n",
       "      <th>two</th>\n",
       "      <th>three</th>\n",
       "    </tr>\n",
       "  </thead>\n",
       "  <tbody>\n",
       "    <tr>\n",
       "      <th>d</th>\n",
       "      <td>4.0</td>\n",
       "      <td>NaN</td>\n",
       "    </tr>\n",
       "    <tr>\n",
       "      <th>b</th>\n",
       "      <td>2.0</td>\n",
       "      <td>NaN</td>\n",
       "    </tr>\n",
       "    <tr>\n",
       "      <th>a</th>\n",
       "      <td>1.0</td>\n",
       "      <td>NaN</td>\n",
       "    </tr>\n",
       "  </tbody>\n",
       "</table>\n",
       "</div>"
      ],
      "text/plain": [
       "   two three\n",
       "d  4.0   NaN\n",
       "b  2.0   NaN\n",
       "a  1.0   NaN"
      ]
     },
     "execution_count": 45,
     "metadata": {},
     "output_type": "execute_result"
    }
   ],
   "source": [
    "pd.DataFrame(d, index=[\"d\", \"b\", \"a\"], columns=[\"two\", \"three\"])\n"
   ]
  },
  {
   "cell_type": "code",
   "execution_count": 46,
   "id": "7eed5b78-9320-4a67-8dc2-3b8fd2665ba7",
   "metadata": {},
   "outputs": [],
   "source": [
    "data = np.zeros((2,), dtype=[(\"A\", \"i4\"), (\"B\", \"f4\"), (\"C\", \"a10\")])\n"
   ]
  },
  {
   "cell_type": "code",
   "execution_count": 47,
   "id": "4157eaaf-1361-4307-b134-78cef651dfc5",
   "metadata": {},
   "outputs": [
    {
     "data": {
      "text/plain": [
       "array([(0, 0., b''), (0, 0., b'')],\n",
       "      dtype=[('A', '<i4'), ('B', '<f4'), ('C', 'S10')])"
      ]
     },
     "execution_count": 47,
     "metadata": {},
     "output_type": "execute_result"
    }
   ],
   "source": [
    "data"
   ]
  },
  {
   "cell_type": "code",
   "execution_count": 48,
   "id": "318bf8fd-b88e-453e-9a55-2d95ce22d4fb",
   "metadata": {},
   "outputs": [],
   "source": [
    "data[:] = [(1, 2.0, \"Hello\"), (2, 3.0, \"World\")]\n"
   ]
  },
  {
   "cell_type": "code",
   "execution_count": 49,
   "id": "74208018-7916-48c0-b936-20bdffc2260a",
   "metadata": {},
   "outputs": [
    {
     "data": {
      "text/plain": [
       "array([(1, 2., b'Hello'), (2, 3., b'World')],\n",
       "      dtype=[('A', '<i4'), ('B', '<f4'), ('C', 'S10')])"
      ]
     },
     "execution_count": 49,
     "metadata": {},
     "output_type": "execute_result"
    }
   ],
   "source": [
    "data"
   ]
  },
  {
   "cell_type": "code",
   "execution_count": 50,
   "id": "5e90152a-196b-41b0-9b11-e567218b3571",
   "metadata": {},
   "outputs": [
    {
     "data": {
      "text/html": [
       "<div>\n",
       "<style scoped>\n",
       "    .dataframe tbody tr th:only-of-type {\n",
       "        vertical-align: middle;\n",
       "    }\n",
       "\n",
       "    .dataframe tbody tr th {\n",
       "        vertical-align: top;\n",
       "    }\n",
       "\n",
       "    .dataframe thead th {\n",
       "        text-align: right;\n",
       "    }\n",
       "</style>\n",
       "<table border=\"1\" class=\"dataframe\">\n",
       "  <thead>\n",
       "    <tr style=\"text-align: right;\">\n",
       "      <th></th>\n",
       "      <th>A</th>\n",
       "      <th>B</th>\n",
       "      <th>C</th>\n",
       "    </tr>\n",
       "  </thead>\n",
       "  <tbody>\n",
       "    <tr>\n",
       "      <th>0</th>\n",
       "      <td>1</td>\n",
       "      <td>2.0</td>\n",
       "      <td>b'Hello'</td>\n",
       "    </tr>\n",
       "    <tr>\n",
       "      <th>1</th>\n",
       "      <td>2</td>\n",
       "      <td>3.0</td>\n",
       "      <td>b'World'</td>\n",
       "    </tr>\n",
       "  </tbody>\n",
       "</table>\n",
       "</div>"
      ],
      "text/plain": [
       "   A    B         C\n",
       "0  1  2.0  b'Hello'\n",
       "1  2  3.0  b'World'"
      ]
     },
     "execution_count": 50,
     "metadata": {},
     "output_type": "execute_result"
    }
   ],
   "source": [
    "pd.DataFrame(data)\n"
   ]
  },
  {
   "cell_type": "code",
   "execution_count": 51,
   "id": "092dc75d-62b5-4fc9-8eca-66d7574c8840",
   "metadata": {},
   "outputs": [
    {
     "data": {
      "text/plain": [
       "a   -1.014435\n",
       "b    0.689191\n",
       "c   -1.577911\n",
       "d    0.240396\n",
       "e    0.502837\n",
       "Name: newname, dtype: float64"
      ]
     },
     "execution_count": 51,
     "metadata": {},
     "output_type": "execute_result"
    }
   ],
   "source": [
    "s"
   ]
  },
  {
   "cell_type": "code",
   "execution_count": 52,
   "id": "4bbdcf41-498c-4bbf-8cdc-9f621e06044d",
   "metadata": {},
   "outputs": [
    {
     "data": {
      "text/plain": [
       "a   -1.014435\n",
       "b    0.689191\n",
       "c   -1.577911\n",
       "d    0.240396\n",
       "e    0.502837\n",
       "Name: the2one, dtype: float64"
      ]
     },
     "execution_count": 52,
     "metadata": {},
     "output_type": "execute_result"
    }
   ],
   "source": [
    "s2"
   ]
  },
  {
   "cell_type": "code",
   "execution_count": 57,
   "id": "183f986e-4f81-4f61-8315-ebf1302a6a9d",
   "metadata": {},
   "outputs": [],
   "source": [
    "data = [[s] + [s2]]"
   ]
  },
  {
   "cell_type": "code",
   "execution_count": 58,
   "id": "690b4187-34f5-4927-b13a-85db06b97e4a",
   "metadata": {},
   "outputs": [
    {
     "data": {
      "text/plain": [
       "[[a   -1.014435\n",
       "  b    0.689191\n",
       "  c   -1.577911\n",
       "  d    0.240396\n",
       "  e    0.502837\n",
       "  Name: newname, dtype: float64,\n",
       "  a   -1.014435\n",
       "  b    0.689191\n",
       "  c   -1.577911\n",
       "  d    0.240396\n",
       "  e    0.502837\n",
       "  Name: the2one, dtype: float64]]"
      ]
     },
     "execution_count": 58,
     "metadata": {},
     "output_type": "execute_result"
    }
   ],
   "source": [
    "data"
   ]
  },
  {
   "cell_type": "code",
   "execution_count": 59,
   "id": "2f7a5833-99d1-46a0-a599-2642e6452270",
   "metadata": {},
   "outputs": [],
   "source": [
    "df = pd.DataFrame(data)"
   ]
  },
  {
   "cell_type": "code",
   "execution_count": 60,
   "id": "c5e88068-aa53-4184-8863-944be08f9633",
   "metadata": {},
   "outputs": [
    {
     "data": {
      "text/html": [
       "<div>\n",
       "<style scoped>\n",
       "    .dataframe tbody tr th:only-of-type {\n",
       "        vertical-align: middle;\n",
       "    }\n",
       "\n",
       "    .dataframe tbody tr th {\n",
       "        vertical-align: top;\n",
       "    }\n",
       "\n",
       "    .dataframe thead th {\n",
       "        text-align: right;\n",
       "    }\n",
       "</style>\n",
       "<table border=\"1\" class=\"dataframe\">\n",
       "  <thead>\n",
       "    <tr style=\"text-align: right;\">\n",
       "      <th></th>\n",
       "      <th>0</th>\n",
       "      <th>1</th>\n",
       "    </tr>\n",
       "  </thead>\n",
       "  <tbody>\n",
       "    <tr>\n",
       "      <th>0</th>\n",
       "      <td>a   -1.014435\n",
       "b    0.689191\n",
       "c   -1.577911\n",
       "d   ...</td>\n",
       "      <td>a   -1.014435\n",
       "b    0.689191\n",
       "c   -1.577911\n",
       "d   ...</td>\n",
       "    </tr>\n",
       "  </tbody>\n",
       "</table>\n",
       "</div>"
      ],
      "text/plain": [
       "                                                   0  \\\n",
       "0  a   -1.014435\n",
       "b    0.689191\n",
       "c   -1.577911\n",
       "d   ...   \n",
       "\n",
       "                                                   1  \n",
       "0  a   -1.014435\n",
       "b    0.689191\n",
       "c   -1.577911\n",
       "d   ...  "
      ]
     },
     "execution_count": 60,
     "metadata": {},
     "output_type": "execute_result"
    }
   ],
   "source": [
    "df"
   ]
  },
  {
   "cell_type": "code",
   "execution_count": null,
   "id": "5188b133-bccf-4134-a4e8-231bba4ba990",
   "metadata": {},
   "outputs": [],
   "source": []
  }
 ],
 "metadata": {
  "kernelspec": {
   "display_name": "Python 3 (ipykernel)",
   "language": "python",
   "name": "python3"
  },
  "language_info": {
   "codemirror_mode": {
    "name": "ipython",
    "version": 3
   },
   "file_extension": ".py",
   "mimetype": "text/x-python",
   "name": "python",
   "nbconvert_exporter": "python",
   "pygments_lexer": "ipython3",
   "version": "3.12.0"
  }
 },
 "nbformat": 4,
 "nbformat_minor": 5
}
